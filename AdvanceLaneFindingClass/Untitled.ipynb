{
 "cells": [
  {
   "cell_type": "code",
   "execution_count": null,
   "metadata": {
    "collapsed": true
   },
   "outputs": [],
   "source": [
    "import numpy as np\n",
    "import cv2\n",
    "import matplotlib.pyplot as plt\n",
    "import matplotlib.image as mpimg\n",
    "import glob\n",
    "%matplotlib inline\n",
    "\n",
    "imgages = glob.glob('calibration_images/calibration*.jpg')\n",
    "plt.imshow(img)\n",
    "\n",
    "objpoints = []\n",
    "imgpoints = []\n",
    "image_dims = (8,6)\n",
    "objp = np.zeros((6*8, 3), np.float32)\n",
    "objp[:,:2] = np.mgrid[0:image_dims[0], 0:image_dims[1]].T.reshape(-1, 2)\n",
    "\n",
    "for fname in imgages:\n",
    "    img = mpimg.imread(fname)\n",
    "    gray = cv2.cvtColor(img, cv2.COLOR_BGR2GRAY)\n",
    "\n",
    "    ret, corners = cv2.findChessboardCorners(gray, image_dims, None)\n",
    "\n",
    "    if ret == True:\n",
    "        imgpoints.append(corners)\n",
    "        objpoints.append(objp)\n",
    "        img = cv2.drawCheesboardCornsrs(img, image_dims, corners, ret)\n",
    "        plt.imshow(img)\n",
    "        \n",
    "\n",
    "[ret, mtx, dist, rves, tvecs] = cv2.calibrateCamera(objpoints, imgpoints, gray.shape[::-1], None, None)\n",
    "dst = cv2.undistor(img, mtx, dist, None, mtx)"
   ]
  }
 ],
 "metadata": {
  "kernelspec": {
   "display_name": "Python 3",
   "language": "python",
   "name": "python3"
  },
  "language_info": {
   "codemirror_mode": {
    "name": "ipython",
    "version": 3
   },
   "file_extension": ".py",
   "mimetype": "text/x-python",
   "name": "python",
   "nbconvert_exporter": "python",
   "pygments_lexer": "ipython3",
   "version": "3.5.2"
  },
  "widgets": {
   "state": {},
   "version": "1.1.2"
  }
 },
 "nbformat": 4,
 "nbformat_minor": 2
}
