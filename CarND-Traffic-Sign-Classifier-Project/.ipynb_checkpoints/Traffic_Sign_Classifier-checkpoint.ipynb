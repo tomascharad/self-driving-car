{
 "cells": [
  {
   "cell_type": "markdown",
   "metadata": {},
   "source": [
    "# Self-Driving Car Engineer Nanodegree\n",
    "\n",
    "## Deep Learning\n",
    "\n",
    "## Project: Build a Traffic Sign Recognition Classifier\n",
    "\n",
    "In this notebook, a template is provided for you to implement your functionality in stages, which is required to successfully complete this project. If additional code is required that cannot be included in the notebook, be sure that the Python code is successfully imported and included in your submission if necessary. \n",
    "\n",
    "> **Note**: Once you have completed all of the code implementations, you need to finalize your work by exporting the iPython Notebook as an HTML document. Before exporting the notebook to html, all of the code cells need to have been run so that reviewers can see the final implementation and output. You can then export the notebook by using the menu above and navigating to  \\n\",\n",
    "    \"**File -> Download as -> HTML (.html)**. Include the finished document along with this notebook as your submission. \n",
    "\n",
    "In addition to implementing code, there is a writeup to complete. The writeup should be completed in a separate file, which can be either a markdown file or a pdf document. There is a [write up template](https://github.com/udacity/CarND-Traffic-Sign-Classifier-Project/blob/master/writeup_template.md) that can be used to guide the writing process. Completing the code template and writeup template will cover all of the [rubric points](https://review.udacity.com/#!/rubrics/481/view) for this project.\n",
    "\n",
    "The [rubric](https://review.udacity.com/#!/rubrics/481/view) contains \"Stand Out Suggestions\" for enhancing the project beyond the minimum requirements. The stand out suggestions are optional. If you decide to pursue the \"stand out suggestions\", you can include the code in this Ipython notebook and also discuss the results in the writeup file.\n",
    "\n",
    "\n",
    ">**Note:** Code and Markdown cells can be executed using the **Shift + Enter** keyboard shortcut. In addition, Markdown cells can be edited by typically double-clicking the cell to enter edit mode."
   ]
  },
  {
   "cell_type": "markdown",
   "metadata": {},
   "source": [
    "---\n",
    "## Step 0: Load The Data"
   ]
  },
  {
   "cell_type": "code",
   "execution_count": 1,
   "metadata": {
    "collapsed": false
   },
   "outputs": [],
   "source": [
    "# Load pickled data\n",
    "import pickle\n",
    "\n",
    "# TODO: Fill this in based on where you saved the training and testing data\n",
    "\n",
    "training_file = './traffic-signs-data/train.p'\n",
    "validation_file= './traffic-signs-data/valid.p'\n",
    "testing_file = './traffic-signs-data/test.p'\n",
    "\n",
    "with open(training_file, mode='br') as f:\n",
    "    train = pickle.load(f)\n",
    "with open(validation_file, mode='br') as f:\n",
    "    valid = pickle.load(f)\n",
    "with open(testing_file, mode='br') as f:\n",
    "    test = pickle.load(f)\n",
    "    \n",
    "X_train, y_train = train['features'], train['labels']\n",
    "X_valid, y_valid = valid['features'], valid['labels']\n",
    "X_test, y_test = test['features'], test['labels']"
   ]
  },
  {
   "cell_type": "markdown",
   "metadata": {},
   "source": [
    "---\n",
    "\n",
    "## Step 1: Dataset Summary & Exploration\n",
    "\n",
    "The pickled data is a dictionary with 4 key/value pairs:\n",
    "\n",
    "- `'features'` is a 4D array containing raw pixel data of the traffic sign images, (num examples, width, height, channels).\n",
    "- `'labels'` is a 1D array containing the label/class id of the traffic sign. The file `signnames.csv` contains id -> name mappings for each id.\n",
    "- `'sizes'` is a list containing tuples, (width, height) representing the the original width and height the image.\n",
    "- `'coords'` is a list containing tuples, (x1, y1, x2, y2) representing coordinates of a bounding box around the sign in the image. **THESE COORDINATES ASSUME THE ORIGINAL IMAGE. THE PICKLED DATA CONTAINS RESIZED VERSIONS (32 by 32) OF THESE IMAGES**\n",
    "\n",
    "Complete the basic data summary below. Use python, numpy and/or pandas methods to calculate the data summary rather than hard coding the results. For example, the [pandas shape method](http://pandas.pydata.org/pandas-docs/stable/generated/pandas.DataFrame.shape.html) might be useful for calculating some of the summary results. "
   ]
  },
  {
   "cell_type": "markdown",
   "metadata": {},
   "source": [
    "### Provide a Basic Summary of the Data Set Using Python, Numpy and/or Pandas"
   ]
  },
  {
   "cell_type": "code",
   "execution_count": 2,
   "metadata": {
    "collapsed": false
   },
   "outputs": [
    {
     "name": "stdout",
     "output_type": "stream",
     "text": [
      "Number of training examples = 34799\n",
      "Number of testing examples = 12630\n",
      "Number of validation examples = 12630\n",
      "Image data shape = (32, 32, 3)\n",
      "Number of classes = 43\n"
     ]
    }
   ],
   "source": [
    "### Replace each question mark with the appropriate value. \n",
    "### Use python, pandas or numpy methods rather than hard coding the results\n",
    "import numpy as np\n",
    "\n",
    "# TODO: Number of training examples\n",
    "assert(len(X_train) == len(y_train))\n",
    "assert(len(X_valid) == len(y_valid))\n",
    "assert(len(X_test) == len(y_test))\n",
    "\n",
    "n_train = len(X_train)\n",
    "\n",
    "# TODO: Number of testing examples.\n",
    "n_test = len(X_test)\n",
    "\n",
    "n_valid = len(X_test)\n",
    "\n",
    "# TODO: What's the shape of an traffic sign image?\n",
    "image_shape = X_train[0].shape\n",
    "\n",
    "# TODO: How many unique classes/labels there are in the dataset.\n",
    "n_classes = len(np.unique(train['labels']))\n",
    "\n",
    "print(\"Number of training examples =\", n_train)\n",
    "print(\"Number of testing examples =\", n_test)\n",
    "print(\"Number of validation examples =\", n_valid)\n",
    "print(\"Image data shape =\", image_shape)\n",
    "print(\"Number of classes =\", n_classes)"
   ]
  },
  {
   "cell_type": "markdown",
   "metadata": {},
   "source": [
    "### Include an exploratory visualization of the dataset"
   ]
  },
  {
   "cell_type": "markdown",
   "metadata": {},
   "source": [
    "Visualize the German Traffic Signs Dataset using the pickled file(s). This is open ended, suggestions include: plotting traffic sign images, plotting the count of each sign, etc.\n",
    "\n",
    "The [Matplotlib](http://matplotlib.org/) [examples](http://matplotlib.org/examples/index.html) and [gallery](http://matplotlib.org/gallery.html) pages are a great resource for doing visualizations in Python.\n",
    "\n",
    "**NOTE:** It's recommended you start with something simple first. If you wish to do more, come back to it after you've completed the rest of the sections."
   ]
  },
  {
   "cell_type": "code",
   "execution_count": 3,
   "metadata": {
    "collapsed": false
   },
   "outputs": [
    {
     "name": "stdout",
     "output_type": "stream",
     "text": [
      "33\n",
      "3\n",
      "5\n"
     ]
    },
    {
     "data": {
      "image/png": "[encoded data removed]",
      "text/plain": [
       "<matplotlib.figure.Figure at 0x10a23e4e0>"
      ]
     },
     "metadata": {},
     "output_type": "display_data"
    },
    {
     "data": {
      "image/png": "[encoded data removed]",
      "text/plain": [
       "<matplotlib.figure.Figure at 0x120096e80>"
      ]
     },
     "metadata": {},
     "output_type": "display_data"
    },
    {
     "data": {
      "image/png": "[encoded data removed]",
      "text/plain": [
       "<matplotlib.figure.Figure at 0x1200b30b8>"
      ]
     },
     "metadata": {},
     "output_type": "display_data"
    }
   ],
   "source": [
    "### Data exploration visualization code goes here.\n",
    "### Feel free to use as many code cells as needed.\n",
    "# Visualizations will be shown in the notebook.\n",
    "import random\n",
    "import numpy as np\n",
    "import matplotlib.pyplot as plt\n",
    "%matplotlib inline\n",
    "\n",
    "index = random.randint(0, len(X_valid))\n",
    "image = X_train[index].squeeze()\n",
    "plt.figure(figsize=(1,1))\n",
    "plt.imshow(image, cmap=\"gray\")\n",
    "print(y_valid[index])\n",
    "\n",
    "index = random.randint(0, len(X_test))\n",
    "image = X_test[index].squeeze()\n",
    "plt.figure(figsize=(1,1))\n",
    "plt.imshow(image, cmap=\"gray\")\n",
    "print(y_test[index])\n",
    "\n",
    "index = random.randint(0, len(X_train))\n",
    "image = X_train[0].squeeze()\n",
    "plt.figure(figsize=(1,1))\n",
    "plt.imshow(image, cmap=\"gray\")\n",
    "print(y_train[index])"
   ]
  },
  {
   "cell_type": "markdown",
   "metadata": {},
   "source": [
    "----\n",
    "\n",
    "## Step 2: Design and Test a Model Architecture\n",
    "\n",
    "Design and implement a deep learning model that learns to recognize traffic signs. Train and test your model on the [German Traffic Sign Dataset](http://benchmark.ini.rub.de/?section=gtsrb&subsection=dataset).\n",
    "\n",
    "There are various aspects to consider when thinking about this problem:\n",
    "\n",
    "- Neural network architecture\n",
    "- Play around preprocessing techniques (normalization, rgb to grayscale, etc)\n",
    "- Number of examples per label (some have more than others).\n",
    "- Generate fake data.\n",
    "\n",
    "Here is an example of a [published baseline model on this problem](http://yann.lecun.com/exdb/publis/pdf/sermanet-ijcnn-11.pdf). It's not required to be familiar with the approach used in the paper but, it's good practice to try to read papers like these.\n",
    "\n",
    "**NOTE:** The LeNet-5 implementation shown in the [classroom](https://classroom.udacity.com/nanodegrees/nd013/parts/fbf77062-5703-404e-b60c-95b78b2f3f9e/modules/6df7ae49-c61c-4bb2-a23e-6527e69209ec/lessons/601ae704-1035-4287-8b11-e2c2716217ad/concepts/d4aca031-508f-4e0b-b493-e7b706120f81) at the end of the CNN lesson is a solid starting point. You'll have to change the number of classes and possibly the preprocessing, but aside from that it's plug and play!"
   ]
  },
  {
   "cell_type": "markdown",
   "metadata": {},
   "source": [
    "### Pre-process the Data Set (normalization, grayscale, etc.)"
   ]
  },
  {
   "cell_type": "markdown",
   "metadata": {},
   "source": [
    "Use the code cell (or multiple code cells, if necessary) to implement the first step of your project."
   ]
  },
  {
   "cell_type": "code",
   "execution_count": 4,
   "metadata": {
    "collapsed": false
   },
   "outputs": [],
   "source": [
    "### Preprocess the data here. Preprocessing steps could include normalization, converting to grayscale, etc.\n",
    "### Feel free to use as many code cells as needed.\n",
    "from sklearn.utils import shuffle\n",
    "X_train, y_train = shuffle(X_train, y_train)"
   ]
  },
  {
   "cell_type": "code",
   "execution_count": 5,
   "metadata": {
    "collapsed": false
   },
   "outputs": [
    {
     "name": "stdout",
     "output_type": "stream",
     "text": [
      "uint8\n",
      "False\n",
      "(1, 32, 32, 3)\n",
      "(32, 32, 3)\n",
      "(2, 32, 32, 3)\n"
     ]
    },
    {
     "data": {
      "image/png": "[encoded data removed]",
      "text/plain": [
       "<matplotlib.figure.Figure at 0x121957080>"
      ]
     },
     "metadata": {},
     "output_type": "display_data"
    }
   ],
   "source": [
    "X_train_c = np.concatenate((X_train[0:1], np.zeros(X_valid[1:2].shape, dtype=np.uint8)), axis=0)\n",
    "print(X_train.dtype)\n",
    "print(np.array_equal(X_train_c[1:2], X_valid[1:2]))\n",
    "plt.imshow(X_train_c[0])\n",
    "print(X_valid[1:2].shape)\n",
    "print(X_valid[1].shape)\n",
    "print(X_train_c.shape)"
   ]
  },
  {
   "cell_type": "code",
   "execution_count": 6,
   "metadata": {
    "collapsed": false
   },
   "outputs": [
    {
     "data": {
      "text/plain": [
       "<matplotlib.image.AxesImage at 0x1219da898>"
      ]
     },
     "execution_count": 6,
     "metadata": {},
     "output_type": "execute_result"
    },
    {
     "data": {
      "image/png": "[encoded data removed]",
      "text/plain": [
       "<matplotlib.figure.Figure at 0x102e79128>"
      ]
     },
     "metadata": {},
     "output_type": "display_data"
    }
   ],
   "source": [
    "X_train_c = np.concatenate((np.copy(X_train[0:1]), X_test[1:2]), axis=0)\n",
    "plt.imshow(X_train_c[0])"
   ]
  },
  {
   "cell_type": "code",
   "execution_count": 7,
   "metadata": {
    "collapsed": false,
    "scrolled": false
   },
   "outputs": [],
   "source": [
    "import scipy.ndimage as ndimage\n",
    "# TCT: Augmentation\n",
    "def augment(X_dataset, y_dataset):\n",
    "    part_to_augment = 3\n",
    "    degree_range = [-15, 15]\n",
    "    shift_range = [-6, 6]\n",
    "    decimals = 10\n",
    "    train_images_count = X_dataset.shape[0]\n",
    "    \n",
    "    unique, counts = np.unique(y_train, return_counts=True)\n",
    "    quantity_to_augment = 1500 - counts \n",
    "    quantity_to_augment[np.where(quantity_to_augment < 0)] = 0\n",
    "    classes_to_augment = np.array((unique, quantity_to_augment)).T\n",
    "    \n",
    "    rotated_ids = np.array([], dtype=np.int32)\n",
    "    for [klass, quantity] in classes_to_augment:\n",
    "        image_available_indexes = np.where(y_train == klass)[0]\n",
    "        sample = np.random.choice(image_available_indexes, quantity)\n",
    "        rotated_ids = np.concatenate((rotated_ids, sample))\n",
    "        \n",
    "    y_train_augmented = y_dataset[rotated_ids]\n",
    "    augmented_images_length = len(rotated_ids)\n",
    "    X_train_augmented = np.ones((augmented_images_length,) + X_train.shape[1:4], dtype=np.uint8)\n",
    "    for index in range(0, len(rotated_ids)):\n",
    "        i = rotated_ids[index]\n",
    "        angle = np.random.randint(low=degree_range[0]*decimals, high=degree_range[1]*decimals, size=1)/decimals\n",
    "        shift = np.random.randint(low=shift_range[0], high=shift_range[1], size=1)\n",
    "        augmented_image = ndimage.interpolation.rotate(X_dataset[i], angle, reshape=False, mode='nearest')\n",
    "        augmented_image = ndimage.shift(augmented_image, (shift, shift, 0), mode='nearest')\n",
    "        X_train_augmented[index] = augmented_image\n",
    "    return [X_train_augmented, y_train_augmented, rotated_ids]\n",
    "\n",
    "X_train_augmented, y_train_augmented, rotated_ids  = augment(X_train, y_train)\n"
   ]
  },
  {
   "cell_type": "code",
   "execution_count": 11,
   "metadata": {
    "collapsed": false
   },
   "outputs": [
    {
     "data": {
      "text/plain": [
       "<matplotlib.image.AxesImage at 0x1342407b8>"
      ]
     },
     "execution_count": 11,
     "metadata": {},
     "output_type": "execute_result"
    },
    {
     "data": {
      "image/png": "[encoded data removed]",
      "text/plain": [
       "<matplotlib.figure.Figure at 0x134395b00>"
      ]
     },
     "metadata": {},
     "output_type": "display_data"
    },
    {
     "data": {
      "image/png": "[encoded data removed]",
      "text/plain": [
       "<matplotlib.figure.Figure at 0x134395ba8>"
      ]
     },
     "metadata": {},
     "output_type": "display_data"
    }
   ],
   "source": [
    "X_train_concat = np.concatenate((X_train, X_train_augmented))\n",
    "y_train_concat = np.concatenate((y_train, y_train_augmented))\n",
    "plt.imshow(X_train_concat[0], cmap=\"gray\")\n",
    "plt.figure()\n",
    "plt.imshow(X_train_concat[X_train_concat.shape[0] - 3], cmap=\"gray\")"
   ]
  },
  {
   "cell_type": "code",
   "execution_count": 12,
   "metadata": {
    "collapsed": false
   },
   "outputs": [
    {
     "name": "stdout",
     "output_type": "stream",
     "text": [
      "0\n"
     ]
    },
    {
     "data": {
      "image/png": "[encoded data removed]",
      "text/plain": [
       "<matplotlib.figure.Figure at 0x1341dca90>"
      ]
     },
     "metadata": {},
     "output_type": "display_data"
    }
   ],
   "source": [
    "plt.figure(figsize=(1,1))\n",
    "index = 1\n",
    "image = X_train_augmented[index].squeeze()\n",
    "plt.imshow(image, cmap=\"gray\")\n",
    "print(y_train_augmented[index])"
   ]
  },
  {
   "cell_type": "code",
   "execution_count": 13,
   "metadata": {
    "collapsed": false
   },
   "outputs": [
    {
     "name": "stdout",
     "output_type": "stream",
     "text": [
      "0\n"
     ]
    },
    {
     "data": {
      "image/png": "[encoded data removed]",
      "text/plain": [
       "<matplotlib.figure.Figure at 0x1219c2eb8>"
      ]
     },
     "metadata": {},
     "output_type": "display_data"
    }
   ],
   "source": [
    "image = X_train[rotated_ids[index]].squeeze()\n",
    "\n",
    "plt.figure(figsize=(1,1))\n",
    "plt.imshow(image, cmap=\"gray\")\n",
    "print(y_train[rotated_ids[index]])"
   ]
  },
  {
   "cell_type": "code",
   "execution_count": 14,
   "metadata": {
    "collapsed": false,
    "scrolled": true
   },
   "outputs": [
    {
     "name": "stdout",
     "output_type": "stream",
     "text": [
      "37\n"
     ]
    },
    {
     "data": {
      "image/png": "[encoded data removed]",
      "text/plain": [
       "<matplotlib.figure.Figure at 0x1219575c0>"
      ]
     },
     "metadata": {},
     "output_type": "display_data"
    }
   ],
   "source": [
    "rand = random.randint(0, len(X_train_augmented))\n",
    "index = X_train.shape[0] + rand\n",
    "image = X_train_concat[index].squeeze()\n",
    "plt.figure(figsize=(1,1))\n",
    "plt.imshow(image, cmap=\"gray\")\n",
    "print(y_train_concat[index])"
   ]
  },
  {
   "cell_type": "code",
   "execution_count": 15,
   "metadata": {
    "collapsed": false
   },
   "outputs": [
    {
     "name": "stdout",
     "output_type": "stream",
     "text": [
      "37\n"
     ]
    },
    {
     "data": {
      "image/png": "[encoded data removed]",
      "text/plain": [
       "<matplotlib.figure.Figure at 0x120090be0>"
      ]
     },
     "metadata": {},
     "output_type": "display_data"
    }
   ],
   "source": [
    "image1 = X_train_concat[rotated_ids[rand]].squeeze()\n",
    "plt.figure(figsize=(1,1))\n",
    "plt.imshow(image1, cmap=\"gray\")\n",
    "print(y_train_concat[index])"
   ]
  },
  {
   "cell_type": "code",
   "execution_count": 16,
   "metadata": {
    "collapsed": false
   },
   "outputs": [
    {
     "name": "stdout",
     "output_type": "stream",
     "text": [
      "37\n"
     ]
    },
    {
     "data": {
      "image/png": "[encoded data removed]",
      "text/plain": [
       "<matplotlib.figure.Figure at 0x1200c1c88>"
      ]
     },
     "metadata": {},
     "output_type": "display_data"
    }
   ],
   "source": [
    "image2 = X_train[rotated_ids[rand]].squeeze()\n",
    "plt.figure(figsize=(1,1))\n",
    "plt.imshow(image2, cmap=\"gray\")\n",
    "print(y_train_concat[index])"
   ]
  },
  {
   "cell_type": "code",
   "execution_count": 17,
   "metadata": {
    "collapsed": false
   },
   "outputs": [
    {
     "name": "stdout",
     "output_type": "stream",
     "text": [
      "True\n",
      "True\n"
     ]
    },
    {
     "data": {
      "text/plain": [
       "<matplotlib.image.AxesImage at 0x12e2f5c18>"
      ]
     },
     "execution_count": 17,
     "metadata": {},
     "output_type": "execute_result"
    },
    {
     "data": {
      "image/png": "[encoded data removed]",
      "text/plain": [
       "<matplotlib.figure.Figure at 0x134267a90>"
      ]
     },
     "metadata": {},
     "output_type": "display_data"
    },
    {
     "data": {
      "image/png": "[encoded data removed]",
      "text/plain": [
       "<matplotlib.figure.Figure at 0x134267c88>"
      ]
     },
     "metadata": {},
     "output_type": "display_data"
    }
   ],
   "source": [
    "print(np.array_equal(X_train, X_train_concat[0:X_train.shape[0]]))\n",
    "print(np.array_equal(X_train[1], X_train_concat[1]))\n",
    "plt.imshow(X_train[1])\n",
    "plt.figure()\n",
    "plt.imshow(X_train_concat[1])"
   ]
  },
  {
   "cell_type": "code",
   "execution_count": 18,
   "metadata": {
    "collapsed": false
   },
   "outputs": [
    {
     "data": {
      "text/plain": [
       "<matplotlib.image.AxesImage at 0x12e33ab00>"
      ]
     },
     "execution_count": 18,
     "metadata": {},
     "output_type": "execute_result"
    },
    {
     "data": {
      "image/png": "[encoded data removed]",
      "text/plain": [
       "<matplotlib.figure.Figure at 0x12015fd68>"
      ]
     },
     "metadata": {},
     "output_type": "display_data"
    }
   ],
   "source": [
    "plt.imshow(image1)"
   ]
  },
  {
   "cell_type": "code",
   "execution_count": 19,
   "metadata": {
    "collapsed": false
   },
   "outputs": [
    {
     "data": {
      "text/plain": [
       "<matplotlib.image.AxesImage at 0x12e45e278>"
      ]
     },
     "execution_count": 19,
     "metadata": {},
     "output_type": "execute_result"
    },
    {
     "data": {
      "image/png": "[encoded data removed]",
      "text/plain": [
       "<matplotlib.figure.Figure at 0x12e4d04a8>"
      ]
     },
     "metadata": {},
     "output_type": "display_data"
    }
   ],
   "source": [
    "plt.imshow(image2)"
   ]
  },
  {
   "cell_type": "code",
   "execution_count": 20,
   "metadata": {
    "collapsed": false
   },
   "outputs": [
    {
     "name": "stdout",
     "output_type": "stream",
     "text": [
      "(34799, 32, 32, 3)\n",
      "(32581, 32, 32, 3)\n",
      "(67380, 32, 32, 3)\n"
     ]
    }
   ],
   "source": [
    "print(X_train.shape)\n",
    "print(X_train_augmented.shape)\n",
    "print(X_train_concat.shape)"
   ]
  },
  {
   "cell_type": "code",
   "execution_count": 21,
   "metadata": {
    "collapsed": true
   },
   "outputs": [],
   "source": [
    "X_train = X_train_concat\n",
    "y_train = y_train_concat\n",
    "\n",
    "X_train, y_train = shuffle(X_train, y_train)"
   ]
  },
  {
   "cell_type": "code",
   "execution_count": 22,
   "metadata": {
    "collapsed": false
   },
   "outputs": [],
   "source": [
    "import tensorflow as tf\n",
    "from skimage import color\n",
    "def preprocess(dataset):\n",
    "    preprocessed_dataset = np.copy(dataset)\n",
    "    shape = preprocessed_dataset.shape\n",
    "    new_shape = shape[0:3] + (1,)\n",
    "    new_dataset = np.zeros(shape[0:3] + (1,))\n",
    "    for i in range(0, shape[0]):\n",
    "        grayscale_image = color.rgb2gray(preprocessed_dataset[i])\n",
    "        grayscale_image_shape = grayscale_image.shape\n",
    "        new_dataset[i] = grayscale_image.reshape(grayscale_image_shape + (1,))\n",
    "        # TCT: Normalization\n",
    "        new_dataset[i] = (new_dataset[i] - np.mean(new_dataset[i]))/np.var(new_dataset[i])\n",
    "    return new_dataset\n",
    "    \n",
    "X_train = preprocess(X_train)\n",
    "X_valid = preprocess(X_valid)\n",
    "X_test = preprocess(X_test)\n",
    "# TCT: If in need to augment -> from skimage.transform import AffineTransform"
   ]
  },
  {
   "cell_type": "code",
   "execution_count": 23,
   "metadata": {
    "collapsed": false
   },
   "outputs": [
    {
     "data": {
      "text/plain": [
       "<matplotlib.image.AxesImage at 0x1317774a8>"
      ]
     },
     "execution_count": 23,
     "metadata": {},
     "output_type": "execute_result"
    },
    {
     "data": {
      "image/png": "[encoded data removed]",
      "text/plain": [
       "<matplotlib.figure.Figure at 0x12e3be518>"
      ]
     },
     "metadata": {},
     "output_type": "display_data"
    }
   ],
   "source": [
    "image = X_train[0].squeeze()\n",
    "plt.figure(figsize=(1,1))\n",
    "plt.imshow(image, cmap=\"gray\")"
   ]
  },
  {
   "cell_type": "markdown",
   "metadata": {},
   "source": [
    "### Model Architecture"
   ]
  },
  {
   "cell_type": "code",
   "execution_count": 24,
   "metadata": {
    "collapsed": true
   },
   "outputs": [],
   "source": [
    "### Define your architecture here.\n",
    "### Feel free to use as many code cells as needed.\n",
    "\n",
    "EPOCHS = 10\n",
    "BATCH_SIZE = 128"
   ]
  },
  {
   "cell_type": "code",
   "execution_count": 25,
   "metadata": {
    "collapsed": false
   },
   "outputs": [],
   "source": [
    "from tensorflow.contrib.layers import flatten\n",
    "\n",
    "def convReduce4(x, output_depth, mu, sigma):\n",
    "    input_depth = x.get_shape().as_list()[3]\n",
    "    w = tf.Variable(tf.truncated_normal([5, 5, input_depth, output_depth], mu, sigma)) # (height, width, input_depth, output_depth)\n",
    "    b = tf.Variable(tf.truncated_normal([output_depth]))# (output_depth)\n",
    "    return tf.nn.conv2d(x, w, [1, 1, 1, 1], 'VALID') + b\n",
    "                       \n",
    "def maxpoolReduceHalf(x):\n",
    "    ksize = [1, 2, 2, 1]\n",
    "    strides = [1, 2, 2, 1]\n",
    "    padding = 'VALID'\n",
    "    return tf.nn.max_pool(x, ksize, strides, padding)\n",
    "                       \n",
    "def fc(x, new_dim, mu, sigma):\n",
    "    x_dim = x.get_shape().as_list()[1]\n",
    "    w = tf.Variable(tf.truncated_normal([x_dim, new_dim], mu, sigma))\n",
    "    b = tf.Variable(tf.truncated_normal([new_dim], mu, sigma))\n",
    "    fc_res = tf.add(tf.matmul(x, w), b)\n",
    "    # fc1 = tf.nn.relu(fc1)\n",
    "    # fc1 = tf.nn.dropout(fc1, dropout)\n",
    "    return fc_res\n",
    "\n",
    "mu = 0\n",
    "sigma = 0.1\n",
    "\n",
    "def activation_1_f(x):\n",
    "    # TODO: Layer 1: Convolutional. Input = 32x32x1. Output = 28x28x6.\n",
    "    conv_1 = convReduce4(x, 6, mu, sigma)\n",
    "    # TODO: Activation.\n",
    "    actiavation_1 = tf.nn.relu(conv_1)\n",
    "    return actiavation_1\n",
    "\n",
    "def LeNet(actiavation_1):\n",
    "    # Arguments used for tf.truncated_normal, randomly defines variables for the weights and biases for each layer\n",
    "    # TODO: Pooling. Input = 28x28x6. Output = 14x14x6.\n",
    "    dropout_1 = tf.nn.dropout(actiavation_1, keep_prob)\n",
    "    pooling_1 = maxpoolReduceHalf(dropout_1)\n",
    "    # TODO: Layer 2: Convolutional. Output = 10x10x16.\n",
    "    conv_2 = convReduce4(pooling_1, 16, mu, sigma)\n",
    "    # TODO: Activation.\n",
    "    actiavation_2 = tf.nn.relu(conv_2)\n",
    "    # TODO: Pooling. Input = 10x10x16. Output = 5x5x16.\n",
    "    pooling_2 = maxpoolReduceHalf(actiavation_2)\n",
    "\n",
    "    # TODO: Flatten. Input = 5x5x16. Output = 400.\n",
    "    flat = flatten(pooling_2)\n",
    "    # TODO: Layer 3: Fully Connected. Input = 400. Output = 120.\n",
    "    fc1 = fc(flat, 120, mu, sigma)\n",
    "    # TODO: Activation.\n",
    "    actiavation_3 = tf.nn.relu(fc1)\n",
    "    dropout_3 = tf.nn.dropout(actiavation_3, keep_prob)\n",
    "    # TODO: Layer 4: Fully Connected. Input = 120. Output = 84.\n",
    "    fc2 = fc(dropout_3, 84, mu, sigma)\n",
    "    # TODO: Activation.\n",
    "    actiavation_4 = tf.nn.relu(fc2)\n",
    "    # TODO: Layer 5: Fully Connected. Input = 84. Output = 10.\n",
    "    fc2 = fc(actiavation_4, 43, mu, sigma)\n",
    "    return fc2"
   ]
  },
  {
   "cell_type": "markdown",
   "metadata": {},
   "source": [
    "### Train, Validate and Test the Model"
   ]
  },
  {
   "cell_type": "markdown",
   "metadata": {},
   "source": [
    "A validation set can be used to assess how well the model is performing. A low accuracy on the training and validation\n",
    "sets imply underfitting. A high accuracy on the training set but low accuracy on the validation set implies overfitting."
   ]
  },
  {
   "cell_type": "code",
   "execution_count": 26,
   "metadata": {
    "collapsed": false
   },
   "outputs": [],
   "source": [
    "### Train your model here.\n",
    "### Calculate and report the accuracy on the training and validation set.\n",
    "### Once a final model architecture is selected, \n",
    "### the accuracy on the test set should be calculated and reported as well.\n",
    "### Feel free to use as many code cells as needed.\n",
    "x = tf.placeholder(tf.float32, (None, 32, 32, 1))\n",
    "y = tf.placeholder(tf.int32, (None))\n",
    "keep_prob = tf.placeholder(tf.float32)\n",
    "one_hot_y = tf.one_hot(y, 43)"
   ]
  },
  {
   "cell_type": "code",
   "execution_count": 27,
   "metadata": {
    "collapsed": false
   },
   "outputs": [],
   "source": [
    "rate = 0.001\n",
    "activation_1 = activation_1_f(x)\n",
    "logits = LeNet(activation_1)\n",
    "cross_entropy = tf.nn.softmax_cross_entropy_with_logits(logits, one_hot_y)\n",
    "loss_operation = tf.reduce_mean(cross_entropy)\n",
    "optimizer = tf.train.AdamOptimizer(learning_rate = rate)\n",
    "training_operation = optimizer.minimize(loss_operation)"
   ]
  },
  {
   "cell_type": "code",
   "execution_count": 28,
   "metadata": {
    "collapsed": false
   },
   "outputs": [],
   "source": [
    "y_pred = tf.cast(tf.argmax(logits, 1), tf.int32)\n",
    "correct_prediction = tf.equal(y_pred, y)\n",
    "accuracy_operation = tf.reduce_mean(tf.cast(correct_prediction, tf.float32))\n",
    "saver = tf.train.Saver()\n",
    "\n",
    "def evaluate(X_data, y_data):\n",
    "    num_examples = len(X_data)\n",
    "    total_accuracy = 0\n",
    "    sess = tf.get_default_session()\n",
    "    for offset in range(0, num_examples, BATCH_SIZE):\n",
    "        batch_x, batch_y = X_data[offset:offset+BATCH_SIZE], y_data[offset:offset+BATCH_SIZE]\n",
    "        accuracy = sess.run(accuracy_operation, feed_dict={x: batch_x, y: batch_y, keep_prob: 1})\n",
    "        total_accuracy += (accuracy * len(batch_x))\n",
    "    return total_accuracy / num_examples"
   ]
  },
  {
   "cell_type": "code",
   "execution_count": 26,
   "metadata": {
    "collapsed": false
   },
   "outputs": [
    {
     "name": "stdout",
     "output_type": "stream",
     "text": [
      "Training...\n",
      "\n",
      "EPOCH 1 ...\n",
      "Validation Accuracy = 0.762\n",
      "\n",
      "EPOCH 2 ...\n",
      "Validation Accuracy = 0.837\n",
      "\n",
      "EPOCH 3 ...\n",
      "Validation Accuracy = 0.866\n",
      "\n",
      "EPOCH 4 ...\n",
      "Validation Accuracy = 0.888\n",
      "\n",
      "EPOCH 5 ...\n",
      "Validation Accuracy = 0.904\n",
      "\n",
      "EPOCH 6 ...\n",
      "Validation Accuracy = 0.907\n",
      "\n",
      "EPOCH 7 ...\n",
      "Validation Accuracy = 0.902\n",
      "\n",
      "EPOCH 8 ...\n",
      "Validation Accuracy = 0.901\n",
      "\n",
      "EPOCH 9 ...\n",
      "Validation Accuracy = 0.918\n",
      "\n",
      "EPOCH 10 ...\n",
      "Validation Accuracy = 0.911\n",
      "\n",
      "Model saved\n"
     ]
    }
   ],
   "source": [
    "with tf.Session() as sess:\n",
    "    sess.run(tf.global_variables_initializer())\n",
    "    num_examples = len(X_train)\n",
    "    \n",
    "    print(\"Training...\")\n",
    "    print()\n",
    "    for i in range(EPOCHS):\n",
    "        X_train, y_train = shuffle(X_train, y_train)\n",
    "        for offset in range(0, num_examples, BATCH_SIZE):\n",
    "            end = offset + BATCH_SIZE\n",
    "            batch_x, batch_y = X_train[offset:end], y_train[offset:end]\n",
    "            sess.run(training_operation, feed_dict={x: batch_x, y: batch_y, keep_prob: 0.9})\n",
    "            \n",
    "        validation_accuracy = evaluate(X_valid, y_valid)\n",
    "        print(\"EPOCH {} ...\".format(i+1))\n",
    "        print(\"Validation Accuracy = {:.3f}\".format(validation_accuracy))\n",
    "        print()\n",
    "        \n",
    "    saver.save(sess, './traffic_sign_sess')\n",
    "    print(\"Model saved\")"
   ]
  },
  {
   "cell_type": "markdown",
   "metadata": {},
   "source": [
    "---\n",
    "\n",
    "## Step 3: Test a Model on New Images\n",
    "\n",
    "To give yourself more insight into how your model is working, download at least five pictures of German traffic signs from the web and use your model to predict the traffic sign type.\n",
    "\n",
    "You may find `signnames.csv` useful as it contains mappings from the class id (integer) to the actual sign name."
   ]
  },
  {
   "cell_type": "markdown",
   "metadata": {},
   "source": [
    "### Load and Output the Images"
   ]
  },
  {
   "cell_type": "code",
   "execution_count": 58,
   "metadata": {
    "collapsed": false
   },
   "outputs": [
    {
     "name": "stdout",
     "output_type": "stream",
     "text": [
      "(32, 32)\n",
      "15\n"
     ]
    },
    {
     "data": {
      "image/png": "[encoded data removed]",
      "text/plain": [
       "<matplotlib.figure.Figure at 0x12f4ec6a0>"
      ]
     },
     "metadata": {},
     "output_type": "display_data"
    },
    {
     "data": {
      "text/plain": [
       "<matplotlib.figure.Figure at 0x142ff4ef0>"
      ]
     },
     "metadata": {},
     "output_type": "display_data"
    },
    {
     "data": {
      "image/png": "[encoded data removed]",
      "text/plain": [
       "<matplotlib.figure.Figure at 0x143000470>"
      ]
     },
     "metadata": {},
     "output_type": "display_data"
    }
   ],
   "source": [
    "### Load the images and plot them here.\n",
    "### Feel free to use as many code cells as needed.\n",
    "from scipy import misc\n",
    "%matplotlib inline\n",
    "X_web_a = [misc.imread(\"./web-images/priority_road.jpg\"), misc.imread(\"./web-images/right_of_way.jpg\"), misc.imread(\"./web-images/prob_all_vehic.jpg\"), misc.imread(\"./web-images/stop.jpg\"), misc.imread(\"./web-images/60.jpg\")]\n",
    "X_web = np.zeros(shape=(5,32,32,3), dtype=np.uint8)\n",
    "for i, image in enumerate(X_web_a):\n",
    "    X_web[i] = misc.imresize(image, (32, 32, 3))\n",
    "\n",
    "    \n",
    "index = random.randint(0, len(X_web) - 1)\n",
    "image = X_web[index].squeeze()\n",
    "y_web = np.array([12, 11, 15, 14, 3])\n",
    "\n",
    "plt.figure(figsize=(1,1))\n",
    "plt.imshow(image)\n",
    "plt.figure()\n",
    "X_web = preprocess(X_web)\n",
    "image = X_web[index].squeeze()\n",
    "y_web = np.array([12, 11, 15, 14, 3])\n",
    "print(image.shape)\n",
    "plt.figure(figsize=(1,1))\n",
    "plt.imshow(image)\n",
    "print(y_web[index])"
   ]
  },
  {
   "cell_type": "markdown",
   "metadata": {},
   "source": [
    "### Predict the Sign Type for Each Image"
   ]
  },
  {
   "cell_type": "code",
   "execution_count": 62,
   "metadata": {
    "collapsed": false
   },
   "outputs": [
    {
     "name": "stdout",
     "output_type": "stream",
     "text": [
      "Test Accuracy = 0.800\n",
      "[12 11 15 14 15]\n",
      "[12 11 15 14  3]\n"
     ]
    }
   ],
   "source": [
    "### Run the predictions here and use the model to output the prediction for each image.\n",
    "### Make sure to pre-process the images with the same pre-processing pipeline used earlier.\n",
    "### Feel free to use as many code cells as needed.\n",
    "with tf.Session() as sess:\n",
    "    saver.restore(sess, tf.train.latest_checkpoint('.'))\n",
    "    test_accuracy = evaluate(X_web, y_web)\n",
    "    print(\"Test Accuracy = {:.3f}\".format(test_accuracy))\n",
    "    print(sess.run(y_pred, feed_dict={x: X_web, y: y_web, keep_prob: 1}))\n",
    "    print(y_web)"
   ]
  },
  {
   "cell_type": "markdown",
   "metadata": {},
   "source": [
    "### Analyze Performance"
   ]
  },
  {
   "cell_type": "code",
   "execution_count": 60,
   "metadata": {
    "collapsed": false
   },
   "outputs": [
    {
     "name": "stdout",
     "output_type": "stream",
     "text": [
      "Test Accuracy = 0.904\n"
     ]
    }
   ],
   "source": [
    "### Calculate the accuracy for these 5 new images. \n",
    "### For example, if the model predicted 1 out of 5 signs correctly, it's 20% accurate on these new images.\n",
    "with tf.Session() as sess:\n",
    "    saver.restore(sess, tf.train.latest_checkpoint('.'))\n",
    "\n",
    "    test_accuracy = evaluate(X_test, y_test)\n",
    "    print(\"Test Accuracy = {:.3f}\".format(test_accuracy))"
   ]
  },
  {
   "cell_type": "markdown",
   "metadata": {},
   "source": [
    "### Output Top 5 Softmax Probabilities For Each Image Found on the Web"
   ]
  },
  {
   "cell_type": "markdown",
   "metadata": {},
   "source": [
    "For each of the new images, print out the model's softmax probabilities to show the **certainty** of the model's predictions (limit the output to the top 5 probabilities for each image). [`tf.nn.top_k`](https://www.tensorflow.org/versions/r0.12/api_docs/python/nn.html#top_k) could prove helpful here. \n",
    "\n",
    "The example below demonstrates how tf.nn.top_k can be used to find the top k predictions for each image.\n",
    "\n",
    "`tf.nn.top_k` will return the values and indices (class ids) of the top k predictions. So if k=3, for each sign, it'll return the 3 largest probabilities (out of a possible 43) and the correspoding class ids.\n",
    "\n",
    "Take this numpy array as an example. The values in the array represent predictions. The array contains softmax probabilities for five candidate images with six possible classes. `tk.nn.top_k` is used to choose the three classes with the highest probability:\n",
    "\n",
    "```\n",
    "# (5, 6) array\n",
    "a = np.array([[ 0.24879643,  0.07032244,  0.12641572,  0.34763842,  0.07893497,\n",
    "         0.12789202],\n",
    "       [ 0.28086119,  0.27569815,  0.08594638,  0.0178669 ,  0.18063401,\n",
    "         0.15899337],\n",
    "       [ 0.26076848,  0.23664738,  0.08020603,  0.07001922,  0.1134371 ,\n",
    "         0.23892179],\n",
    "       [ 0.11943333,  0.29198961,  0.02605103,  0.26234032,  0.1351348 ,\n",
    "         0.16505091],\n",
    "       [ 0.09561176,  0.34396535,  0.0643941 ,  0.16240774,  0.24206137,\n",
    "         0.09155967]])\n",
    "```\n",
    "\n",
    "Running it through `sess.run(tf.nn.top_k(tf.constant(a), k=3))` produces:\n",
    "\n",
    "```\n",
    "TopKV2(values=array([[ 0.34763842,  0.24879643,  0.12789202],\n",
    "       [ 0.28086119,  0.27569815,  0.18063401],\n",
    "       [ 0.26076848,  0.23892179,  0.23664738],\n",
    "       [ 0.29198961,  0.26234032,  0.16505091],\n",
    "       [ 0.34396535,  0.24206137,  0.16240774]]), indices=array([[3, 0, 5],\n",
    "       [0, 1, 4],\n",
    "       [0, 5, 1],\n",
    "       [1, 3, 5],\n",
    "       [1, 4, 3]], dtype=int32))\n",
    "```\n",
    "\n",
    "Looking just at the first row we get `[ 0.34763842,  0.24879643,  0.12789202]`, you can confirm these are the 3 largest probabilities in `a`. You'll also notice `[3, 0, 5]` are the corresponding indices."
   ]
  },
  {
   "cell_type": "code",
   "execution_count": 64,
   "metadata": {
    "collapsed": false
   },
   "outputs": [
    {
     "name": "stdout",
     "output_type": "stream",
     "text": [
      "Test\n",
      "[[16  9  7 40  8]\n",
      " [ 1  2  5 19  4]\n",
      " [38 31  5 18 26]\n",
      " ..., \n",
      " [ 3 36  6 15 33]\n",
      " [ 2  7  8  1  5]\n",
      " [ 4 10  7  8  5]]\n",
      "Web\n",
      "[[12 40 14  1  2]\n",
      " [11 27 24 25 18]\n",
      " [15  9  3 41  8]\n",
      " [14  2  1  3  0]\n",
      " [15 20 32 41 39]]\n"
     ]
    }
   ],
   "source": [
    "### Print out the top five softmax probabilities for the predictions on the German traffic sign images found on the web. \n",
    "### Feel free to use as many code cells as needed.\n",
    "with tf.Session() as sess:\n",
    "    saver.restore(sess, tf.train.latest_checkpoint('.'))\n",
    "    top = sess.run(tf.nn.top_k(logits, k=5), feed_dict={x: X_test, keep_prob: 1})\n",
    "    print('Test')\n",
    "    print(top.indices)\n",
    "    top = sess.run(tf.nn.top_k(logits, k=5), feed_dict={x: X_web, keep_prob: 1})\n",
    "    print('Web')\n",
    "    print(top.indices)"
   ]
  },
  {
   "cell_type": "markdown",
   "metadata": {},
   "source": [
    "---\n",
    "\n",
    "## Step 4: Visualize the Neural Network's State with Test Images\n",
    "\n",
    " This Section is not required to complete but acts as an additional excersise for understaning the output of a neural network's weights. While neural networks can be a great learning device they are often referred to as a black box. We can understand what the weights of a neural network look like better by plotting their feature maps. After successfully training your neural network you can see what it's feature maps look like by plotting the output of the network's weight layers in response to a test stimuli image. From these plotted feature maps, it's possible to see what characteristics of an image the network finds interesting. For a sign, maybe the inner network feature maps react with high activation to the sign's boundary outline or to the contrast in the sign's painted symbol.\n",
    "\n",
    " Provided for you below is the function code that allows you to get the visualization output of any tensorflow weight layer you want. The inputs to the function should be a stimuli image, one used during training or a new one you provided, and then the tensorflow variable name that represents the layer's state during the training process, for instance if you wanted to see what the [LeNet lab's](https://classroom.udacity.com/nanodegrees/nd013/parts/fbf77062-5703-404e-b60c-95b78b2f3f9e/modules/6df7ae49-c61c-4bb2-a23e-6527e69209ec/lessons/601ae704-1035-4287-8b11-e2c2716217ad/concepts/d4aca031-508f-4e0b-b493-e7b706120f81) feature maps looked like for it's second convolutional layer you could enter conv2 as the tf_activation variable.\n",
    "\n",
    "For an example of what feature map outputs look like, check out NVIDIA's results in their paper [End-to-End Deep Learning for Self-Driving Cars](https://devblogs.nvidia.com/parallelforall/deep-learning-self-driving-cars/) in the section Visualization of internal CNN State. NVIDIA was able to show that their network's inner weights had high activations to road boundary lines by comparing feature maps from an image with a clear path to one without. Try experimenting with a similar test to show that your trained network's weights are looking for interesting features, whether it's looking at differences in feature maps from images with or without a sign, or even what feature maps look like in a trained network vs a completely untrained one on the same sign image.\n",
    "\n",
    "<figure>\n",
    " <img src=\"visualize_cnn.png\" width=\"380\" alt=\"Combined Image\" />\n",
    " <figcaption>\n",
    " <p></p> \n",
    " <p style=\"text-align: center;\"> Your output should look something like this (above)</p> \n",
    " </figcaption>\n",
    "</figure>\n",
    " <p></p> \n"
   ]
  },
  {
   "cell_type": "code",
   "execution_count": 31,
   "metadata": {
    "collapsed": false
   },
   "outputs": [
    {
     "data": {
      "text/plain": [
       "<matplotlib.image.AxesImage at 0x10df230f0>"
      ]
     },
     "execution_count": 31,
     "metadata": {},
     "output_type": "execute_result"
    },
    {
     "data": {
      "image/png": "[encoded data removed]",
      "text/plain": [
       "<matplotlib.figure.Figure at 0x14b993a58>"
      ]
     },
     "metadata": {},
     "output_type": "display_data"
    },
    {
     "data": {
      "image/png": "[encoded data removed]",
      "text/plain": [
       "<matplotlib.figure.Figure at 0x122bd7ba8>"
      ]
     },
     "metadata": {},
     "output_type": "display_data"
    }
   ],
   "source": [
    "### Visualize your network's feature maps here.\n",
    "### Feel free to use as many code cells as needed.\n",
    "\n",
    "# image_input: the test image being fed into the network to produce the feature maps\n",
    "# tf_activation: should be a tf variable name used during your training procedure that represents the calculated state of a specific weight layer\n",
    "# activation_min/max: can be used to view the activation contrast in more detail, by default matplot sets min and max to the actual min and max values of the output\n",
    "# plt_num: used to plot out multiple different weight feature map sets on the same block, just extend the plt number for each new feature map entry\n",
    "def outputFeatureMap(image_input, tf_activation, activation_min=-1, activation_max=-1 ,plt_num=1):\n",
    "    # Here make sure to preprocess your image_input in a way your network expects\n",
    "    # with size, normalization, ect if needed\n",
    "    # image_input =\n",
    "    # Note: x should be the same name as your network's tensorflow data placeholder variable\n",
    "    # If you get an error tf_activation is not defined it maybe having trouble accessing the variable from inside a function\n",
    "    activation = tf_activation.eval(session=sess,feed_dict={x : image_input})\n",
    "    featuremaps = activation.shape[3]\n",
    "    plt.figure(plt_num, figsize=(15,15))\n",
    "    for featuremap in range(featuremaps):\n",
    "        plt.subplot(6,8, featuremap+1) # sets the number of feature maps to show on each row and column\n",
    "        plt.title('FeatureMap ' + str(featuremap)) # displays the feature map number\n",
    "        if activation_min != -1 & activation_max != -1:\n",
    "            plt.imshow(activation[0,:,:, featuremap], interpolation=\"nearest\", vmin =activation_min, vmax=activation_max, cmap=\"gray\")\n",
    "        elif activation_max != -1:\n",
    "            plt.imshow(activation[0,:,:, featuremap], interpolation=\"nearest\", vmax=activation_max, cmap=\"gray\")\n",
    "        elif activation_min !=-1:\n",
    "            plt.imshow(activation[0,:,:, featuremap], interpolation=\"nearest\", vmin=activation_min, cmap=\"gray\")\n",
    "        else:\n",
    "            plt.imshow(activation[0,:,:, featuremap], interpolation=\"nearest\", cmap=\"gray\")\n",
    "\n",
    "index = random.randint(0, len(X_test))\n",
    "image = X_test[index].squeeze()\n",
    "\n",
    "with tf.Session() as sess:\n",
    "    saver.restore(sess, tf.train.latest_checkpoint('.'))\n",
    "    outputFeatureMap(X_test[index:index+1], activation_1)\n",
    "\n",
    "plt.figure(figsize=(1,1))\n",
    "plt.imshow(image, cmap=\"gray\")\n"
   ]
  },
  {
   "cell_type": "code",
   "execution_count": 70,
   "metadata": {
    "collapsed": false
   },
   "outputs": [
    {
     "data": {
      "image/png": "[encoded data removed]",
      "text/plain": [
       "<matplotlib.figure.Figure at 0x116f96400>"
      ]
     },
     "metadata": {},
     "output_type": "display_data"
    },
    {
     "name": "stdout",
     "output_type": "stream",
     "text": [
      "[[   0 1500]\n",
      " [  23 1500]\n",
      " [  24 1500]\n",
      " [  25 1500]\n",
      " [  26 1500]\n",
      " [  27 1500]\n",
      " [  28 1500]\n",
      " [  29 1500]\n",
      " [  30 1500]\n",
      " [  31 1500]\n",
      " [  32 1500]\n",
      " [  33 1500]\n",
      " [  34 1500]\n",
      " [  35 1500]\n",
      " [  36 1500]\n",
      " [  37 1500]\n",
      " [  39 1500]\n",
      " [  40 1500]\n",
      " [  22 1500]\n",
      " [  41 1500]\n",
      " [  21 1500]\n",
      " [  19 1500]\n",
      " [   3 1500]\n",
      " [   6 1500]\n",
      " [   7 1500]\n",
      " [   8 1500]\n",
      " [  20 1500]\n",
      " [  11 1500]\n",
      " [   9 1500]\n",
      " [  14 1500]\n",
      " [  15 1500]\n",
      " [  16 1500]\n",
      " [  17 1500]\n",
      " [  18 1500]\n",
      " [  42 1500]\n",
      " [   5 1650]\n",
      " [   4 1770]\n",
      " [  10 1800]\n",
      " [  38 1860]\n",
      " [  12 1890]\n",
      " [  13 1920]\n",
      " [   1 1980]\n",
      " [   2 2010]]\n",
      "[12 11 15 14 15]\n"
     ]
    },
    {
     "data": {
      "text/plain": [
       "<matplotlib.figure.Figure at 0x12f4d7c50>"
      ]
     },
     "metadata": {},
     "output_type": "display_data"
    }
   ],
   "source": [
    "import sklearn.metrics as metrics\n",
    "import matplotlib.pyplot as plt\n",
    "def f1_plot(y_prd, y_dataset):\n",
    "    unique, counts = np.unique(y_train, return_counts=True)\n",
    "    counts_sort_indexes = np.argsort(counts)\n",
    "    precision_score = metrics.precision_score(y_dataset, y_prd, average=None)\n",
    "    recall_score = metrics.recall_score(y_dataset, y_prd, average=None)\n",
    "    f1_score = metrics.f1_score(y_dataset, y_prd, average=None)\n",
    "    sort_indexes = np.argsort(f1_score)\n",
    "    sorted_indexes = sort_indexes[::-1]\n",
    "#     plt.figure(figsize=(100, 20))\n",
    "    fig, ax = plt.subplots(figsize=(30, 10))\n",
    "    width = 0.35\n",
    "    class_range = np.arange(sorted_indexes.shape[0])\n",
    "    rects1 = ax.bar(2 * class_range, precision_score[sorted_indexes], width)\n",
    "    rects2 = ax.bar(2 * class_range + width, recall_score[sorted_indexes], width)\n",
    "    rects3 = ax.bar(2 * class_range + 2 * width, f1_score[sorted_indexes], width)\n",
    "    ax.set_ylabel('Scores')\n",
    "    ax.set_xticks(2 * class_range + width)\n",
    "    ax.set_title('Scores by class')\n",
    "    ax.legend((rects1[0], rects2[0], rects3[0]), ('Precision', 'Recall', 'F1'))\n",
    "    ax.set_xticklabels(sorted_indexes)\n",
    "    plt.show()\n",
    "    print(np.array((unique[counts_sort_indexes], counts[counts_sort_indexes])).T)\n",
    "with tf.Session() as sess:\n",
    "    saver.restore(sess, tf.train.latest_checkpoint('.'))\n",
    "    y_prd = sess.run(y_pred, feed_dict={x: X_test, y: y_test, keep_prob: 1})\n",
    "    f1_plot(y_prd, y_test)\n",
    "    y_prd = sess.run(y_pred, feed_dict={x: X_web, y: y_web, keep_prob: 1})\n",
    "    plt.figure()\n",
    "#     print(y_prd)\n",
    "    f1_plot(y_prd, y_web)\n",
    "    \n",
    "    \n",
    "#     print('Confusion matrix:')\n",
    "#     print(metrics.confusion_matrix(y_test, y_prd))\n",
    "#     print('Roc curve')\n",
    "#     fpr, tpr, tresholds = metrics.roc_curve(y_test, y_pred)"
   ]
  },
  {
   "cell_type": "markdown",
   "metadata": {},
   "source": [
    "### Question 9\n",
    "\n",
    "Discuss how you used the visual output of your trained network's feature maps to show that it had learned to look for interesting characteristics in traffic sign images\n"
   ]
  },
  {
   "cell_type": "markdown",
   "metadata": {},
   "source": [
    "**Answer:**"
   ]
  },
  {
   "cell_type": "markdown",
   "metadata": {},
   "source": [
    "> **Note**: Once you have completed all of the code implementations and successfully answered each question above, you may finalize your work by exporting the iPython Notebook as an HTML document. You can do this by using the menu above and navigating to  \\n\",\n",
    "    \"**File -> Download as -> HTML (.html)**. Include the finished document along with this notebook as your submission."
   ]
  },
  {
   "cell_type": "markdown",
   "metadata": {},
   "source": [
    "First I realized that too much dropout (one by each activation) gave very poor results, so just added two dropout layers.\n",
    "In the first EPOCH I was very sckeptichal abot having introduced dropout, but in te last epoch it surprised my by showing a sligther better performance than without dropout. This also enhanced the performance on the test set from 0.888 to 0.896.\n",
    "\n",
    "After augmenting rotation performance on test decreased to 0.779, maybe I placed wrong labels?\n",
    "Lowering the quantity of examples and the quantity of the distortion might help? from a 5th to a 10th and from +-15 to +-5.\n",
    "\n",
    "I realized that this pickle loaded array, are not modifiable and somehow very weird. When concatenated with other arrays that are not loaded from pickles, then the images get distorted. Why does this happen? No idea, I post a question on the forum and SO (http://stackoverflow.com/questions/42429059/matplotlib-plt-display-same-image-distorted-when-loaded-from-pickle).\n",
    "\n",
    "After investigating, it happened that it was a problem with dtypes, it would have been great to have a prior kowledge about dtypes in the course.\n",
    "\n",
    "Well, now it's time for analysis. It happeneded that I sorted the F1 scores for each class, and somehow they are related to the amount of samples given. I will try to augment the data for the classes with less examples and see how does the model performs.\n",
    "\n",
    "Well at this point I alse noted a little bug on the leNet definition on which I was bypassing one of the layers of Lenet. Maybe that was causing a bad performance as well.\n",
    "\n",
    "After having made every class to have at least 1500 samples, the performance encreased a bit. I don't really know why I can't pass over 91% of performance. But I think that maybe I shouldn't have augmented every sample in equal but maybe only augment the worst performing ones."
   ]
  },
  {
   "cell_type": "markdown",
   "metadata": {},
   "source": [
    "### Project Writeup\n",
    "\n",
    "Once you have completed the code implementation, document your results in a project writeup using this [template](https://github.com/udacity/CarND-Traffic-Sign-Classifier-Project/blob/master/writeup_template.md) as a guide. The writeup can be in a markdown or pdf file. "
   ]
  },
  {
   "cell_type": "markdown",
   "metadata": {
    "collapsed": true
   },
   "source": [
    "## Rubric Points\n",
    "###Here I will consider the [rubric points](https://review.udacity.com/#!/rubrics/481/view) individually and describe how I addressed each point in my implementation.  \n",
    "\n",
    "---\n",
    "\n",
    "####1. Describe how, and identify where in your code, you preprocessed the image data. What tecniques were chosen and why did you choose these techniques? Consider including images showing the output of each preprocessing technique. Pre-processing refers to techniques such as converting to grayscale, normalization, etc.\n",
    "\n",
    "TCT: For augmenting the data, I've decided to make rotations and translations.\n",
    "I didn't go for flips or other trasnforms because I think that the interpretation of some traffic sign might get other meaning if flipping or rotatitng to much (Like dangerous curve go left or go right). This is why rotation is only between +-15 degrees.\n",
    "For translating I've only used +- 5 pixels since If I use too much translation, the images would have gone off the frame.\n",
    "I would have like to get another 'mode' than nearest (For example zoom). Bu t I didn't find a quick way to do that.\n",
    "\n",
    "TCT: For preprocesing, I used grayscale, and then I normalized the images. Normalizing is a good practice since it allows the search algorithms to perform better.\n",
    "\n",
    "\n",
    "####2. Describe how, and identify where in your code, you set up training, validation and testing data. How much data was in each set? Explain what techniques were used to split the data into these sets. (OPTIONAL: As described in the \"Stand Out Suggestions\" part of the rubric, if you generated additional data for training, describe why you decided to generate additional data, how you generated the data, identify where in your code, and provide example images of the additional data)\n",
    "\n",
    "The code for splitting the data into training and validation sets is given by the same datasets provided by Udacity. They are already splitted on trainig, validation and test sets on Step 0.\n",
    "\n",
    "My final training set was augmented since not all classes had the same amount of examples, so I decided to normalize the quantity of each class by setting 1500 images at minumum per class. The extra images were augmented ones and they were made by the 'augment' function.\n",
    "\n",
    "####3. Describe, and identify where in your code, what your final model architecture looks like including model type, layers, layer sizes, connectivity, etc.) Consider including a diagram and/or table describing the final model.\n",
    "\n",
    "The code for my final model is located in the seventh cell of the ipython notebook. \n",
    "\n",
    "My final model consisted of the following layers:\n",
    "\n",
    "My model is based on LeNet, but it includes two dropout stages: One after the first activation, and a second one after the third activation:\n",
    "1. Input 32x32x1\n",
    "2. Convolution 5x5x1 filter Output = 28x28x6\n",
    "3. Relu activation\n",
    "3. Droput\n",
    "4. Pooling: Max Pool Input 28x28x6 Output = 14x14x6\n",
    "5. Convolution Output = 10x10x16\n",
    "6. Relu\n",
    "7. MaxPoll Input 10x10x16, Output: 5x5x16\n",
    "8. Flatten 5x5x16 Output 400\n",
    "9. Fully connected Input 400, Output 120\n",
    "10. Relu\n",
    "11. Dropout\n",
    "12. Fully connected Input 120, Output 84\n",
    "13. Relu\n",
    "14. Fully connected Input 84, Output 10\n",
    "\n",
    "\n",
    "####4. Describe how, and identify where in your code, you trained your model. The discussion can include the type of optimizer, the batch size, number of epochs and any hyperparameters such as learning rate.\n",
    "\n",
    "TCT: My model was trained in 10 Epochs and a Batch size of 128. Also the keep_prob used for Dropout was of 0.9, since after evaluating different values, more than 0.9 made the model to underfit.\n",
    "\n",
    "####5. Describe the approach taken for finding a solution. Include in the discussion the results on the training, validation and test sets and where in the code these were calculated. Your approach may have been an iterative process, in which case, outline the steps you took to get to the final solution and why you chose those steps. Perhaps your solution involved an already well known implementation or architecture. In this case, discuss why you think the architecture is suitable for the current problem.\n",
    "\n",
    "The code for calculating the accuracy of the model is located under the Analyze Performance title.\n",
    "\n",
    "My final model results were:\n",
    "* validation set accuracy of 0.911\n",
    "* test set accuracy of 0.904\n",
    "\n",
    "If an iterative approach was chosen:\n",
    "* What was the first architecture that was tried and why was it chosen?\n",
    "I used LeNet as a starting point\n",
    "* What were some problems with the initial architecture?\n",
    "There weren't many problems that I could see at a first glance, but I added some dropout just in case I would have seen overfitting, which wasn't my case.\n",
    "* Which parameters were tuned? How were they adjusted and why?\n",
    "I never changed the parameters since 10 EPOCHS were just right. I tested with more but the model started to overfit a bit, that's why I just contrained to 10 Epochs and the 128 batch size and tried to play with the amount of augmented data rather with those parameters.\n",
    "\n",
    "If a well known architecture was chosen:\n",
    "* What architecture was chosen?\n",
    "LeNet was Chosen as a base\n",
    "* Why did you believe it would be relevant to the traffic sign application?\n",
    "I just think that from my amount of knowledge I rather spend time playing with preprocessing and augmentation rather than the model itself. I think that it was bettter to understand how could I improve a model by the data on which it was feed, rather to try playing with different models. I think that trying with different models would need a bit more of kowledge of deep learning itself.\n",
    "* How does the final model's accuracy on the training, validation and test set provide evidence that the model is working well?\n",
    "Well, I don't think that my model thas an excelent Job since I just only got 0.9 of accuracy, I would have expect at least 0.95.\n",
    "I think some of the samples for some classes (like class 0) wasn't very good. I tried augmenting those classes but I didn't got much lucky.\n",
    " \n",
    "\n",
    "###Test a Model on New Images\n",
    "\n",
    "####1. Choose five German traffic signs found on the web and provide them in the report. For each image, discuss what quality or qualities might be difficult to classify.\n",
    "\n",
    "In te fifth image, max speed 60, it was a difficult one because the sign is very far and thus it uses a very small percentage of the image, so a lot of noise is introduced.\n",
    "\n",
    "####2. Discuss the model's predictions on these new traffic signs and compare the results to predicting on the test set. Identify where in your code predictions were made. At a minimum, discuss what the predictions were, the accuracy on these new predictions, and compare the accuracy to the accuracy on the test set (OPTIONAL: Discuss the results in more detail as described in the \"Stand Out Suggestions\" part of the rubric).\n",
    "\n",
    "I think that the predictions were ok, given the fact that the 60 speed limit sign was very hard.\n",
    "\n",
    "I also think that my model is neither underfit or overfit given that my test and validation accuracy is very close. Also you can also note how the validation accuracy foud its peak on EPOCH 10, so having trained the mother further would have meant probably overfiting.\n",
    "\n",
    "####3. Describe how certain the model is when predicting on each of the five new images by looking at the softmax probabilities for each prediction and identify where in your code softmax probabilities were outputted. Provide the top 5 softmax probabilities for each image along with the sign type of each probability. (OPTIONAL: as described in the \"Stand Out Suggestions\" part of the rubric, visualizations can also be provided such as bar charts)\n",
    "\n",
    "For this part, I made a graph showing the F1 score with their respective precision and recall for each class. I found that the best performing classes were usually the ones with the highes amount of images before augmentation.\n"
   ]
  }
 ],
 "metadata": {
  "anaconda-cloud": {},
  "kernelspec": {
   "display_name": "Python 3",
   "language": "python",
   "name": "python3"
  },
  "language_info": {
   "codemirror_mode": {
    "name": "ipython",
    "version": 3
   },
   "file_extension": ".py",
   "mimetype": "text/x-python",
   "name": "python",
   "nbconvert_exporter": "python",
   "pygments_lexer": "ipython3",
   "version": "3.5.2"
  },
  "widgets": {
   "state": {},
   "version": "1.1.2"
  }
 },
 "nbformat": 4,
 "nbformat_minor": 1
}
